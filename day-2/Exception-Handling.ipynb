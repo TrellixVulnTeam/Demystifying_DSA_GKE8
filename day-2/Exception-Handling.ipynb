{
 "metadata": {
  "language_info": {
   "codemirror_mode": {
    "name": "ipython",
    "version": 3
   },
   "file_extension": ".py",
   "mimetype": "text/x-python",
   "name": "python",
   "nbconvert_exporter": "python",
   "pygments_lexer": "ipython3",
   "version": "3.9.5"
  },
  "orig_nbformat": 2,
  "kernelspec": {
   "name": "pythonjvsc74a57bd083dfa04db9f62afe501b95e3d952921f72b0dcbeee6ead79c2b38fb74391fc42",
   "display_name": "Python 3.9.5  ('venv': venv)"
  },
  "metadata": {
   "interpreter": {
    "hash": "83dfa04db9f62afe501b95e3d952921f72b0dcbeee6ead79c2b38fb74391fc42"
   }
  }
 },
 "nbformat": 4,
 "nbformat_minor": 2,
 "cells": [
  {
   "source": [
    "# Exception Handling"
   ],
   "cell_type": "markdown",
   "metadata": {}
  },
  {
   "source": [
    "- Syntax Error\n",
    "- Runtime Error eg. Zero Division error\n",
    "\n",
    "Lets Generate these Errors"
   ],
   "cell_type": "markdown",
   "metadata": {}
  },
  {
   "cell_type": "code",
   "execution_count": 3,
   "metadata": {},
   "outputs": [
    {
     "output_type": "error",
     "ename": "SyntaxError",
     "evalue": "invalid syntax (<ipython-input-3-fbb540138ad0>, line 2)",
     "traceback": [
      "\u001b[0;36m  File \u001b[0;32m\"<ipython-input-3-fbb540138ad0>\"\u001b[0;36m, line \u001b[0;32m2\u001b[0m\n\u001b[0;31m    if x == 10\u001b[0m\n\u001b[0m              ^\u001b[0m\n\u001b[0;31mSyntaxError\u001b[0m\u001b[0;31m:\u001b[0m invalid syntax\n"
     ]
    }
   ],
   "source": [
    "# Syntax Error\n",
    "x = 10\n",
    "if x == 10\n",
    "    print('x is : ', x)"
   ]
  },
  {
   "cell_type": "code",
   "execution_count": 4,
   "metadata": {},
   "outputs": [
    {
     "output_type": "error",
     "ename": "ZeroDivisionError",
     "evalue": "division by zero",
     "traceback": [
      "\u001b[0;31m---------------------------------------------------------------------------\u001b[0m",
      "\u001b[0;31mZeroDivisionError\u001b[0m                         Traceback (most recent call last)",
      "\u001b[0;32m<ipython-input-4-4dffeecd4662>\u001b[0m in \u001b[0;36m<module>\u001b[0;34m\u001b[0m\n\u001b[1;32m      1\u001b[0m \u001b[0;31m#Runtime Error\u001b[0m\u001b[0;34m\u001b[0m\u001b[0;34m\u001b[0m\u001b[0;34m\u001b[0m\u001b[0m\n\u001b[1;32m      2\u001b[0m \u001b[0;34m\u001b[0m\u001b[0m\n\u001b[0;32m----> 3\u001b[0;31m \u001b[0mprint\u001b[0m\u001b[0;34m(\u001b[0m\u001b[0;36m20\u001b[0m\u001b[0;34m/\u001b[0m\u001b[0;36m0\u001b[0m\u001b[0;34m)\u001b[0m\u001b[0;34m\u001b[0m\u001b[0;34m\u001b[0m\u001b[0m\n\u001b[0m",
      "\u001b[0;31mZeroDivisionError\u001b[0m: division by zero"
     ]
    }
   ],
   "source": [
    "#Runtime Error\n",
    "\n",
    "print(20/0)"
   ]
  },
  {
   "source": [
    "We normally use Exception handling to handle Runtime error not for Syntax error because we believe that the programmer should take care of the sytax error himself."
   ],
   "cell_type": "markdown",
   "metadata": {}
  },
  {
   "source": [
    "__Types of Runtime Errors__"
   ],
   "cell_type": "markdown",
   "metadata": {}
  },
  {
   "source": [
    "1) __Zero Division Error__"
   ],
   "cell_type": "markdown",
   "metadata": {}
  },
  {
   "cell_type": "code",
   "execution_count": 5,
   "metadata": {},
   "outputs": [
    {
     "output_type": "error",
     "ename": "ZeroDivisionError",
     "evalue": "division by zero",
     "traceback": [
      "\u001b[0;31m---------------------------------------------------------------------------\u001b[0m",
      "\u001b[0;31mZeroDivisionError\u001b[0m                         Traceback (most recent call last)",
      "\u001b[0;32m<ipython-input-5-65966e0a195f>\u001b[0m in \u001b[0;36m<module>\u001b[0;34m\u001b[0m\n\u001b[0;32m----> 1\u001b[0;31m \u001b[0mprint\u001b[0m\u001b[0;34m(\u001b[0m\u001b[0;36m10\u001b[0m \u001b[0;34m/\u001b[0m \u001b[0;36m0\u001b[0m\u001b[0;34m)\u001b[0m\u001b[0;34m\u001b[0m\u001b[0;34m\u001b[0m\u001b[0m\n\u001b[0m",
      "\u001b[0;31mZeroDivisionError\u001b[0m: division by zero"
     ]
    }
   ],
   "source": [
    "print(10 / 0)"
   ]
  },
  {
   "source": [
    "2) __Type Error__"
   ],
   "cell_type": "markdown",
   "metadata": {}
  },
  {
   "cell_type": "code",
   "execution_count": 6,
   "metadata": {},
   "outputs": [
    {
     "output_type": "error",
     "ename": "TypeError",
     "evalue": "unsupported operand type(s) for /: 'int' and 'str'",
     "traceback": [
      "\u001b[0;31m---------------------------------------------------------------------------\u001b[0m",
      "\u001b[0;31mTypeError\u001b[0m                                 Traceback (most recent call last)",
      "\u001b[0;32m<ipython-input-6-d6543ed66161>\u001b[0m in \u001b[0;36m<module>\u001b[0;34m\u001b[0m\n\u001b[0;32m----> 1\u001b[0;31m \u001b[0mprint\u001b[0m\u001b[0;34m(\u001b[0m\u001b[0;36m10\u001b[0m \u001b[0;34m/\u001b[0m \u001b[0;34m'a'\u001b[0m\u001b[0;34m)\u001b[0m\u001b[0;34m\u001b[0m\u001b[0;34m\u001b[0m\u001b[0m\n\u001b[0m",
      "\u001b[0;31mTypeError\u001b[0m: unsupported operand type(s) for /: 'int' and 'str'"
     ]
    }
   ],
   "source": [
    "print(10 / 'a')"
   ]
  },
  {
   "source": [
    "3) __Value Error__"
   ],
   "cell_type": "markdown",
   "metadata": {}
  },
  {
   "cell_type": "code",
   "execution_count": 7,
   "metadata": {},
   "outputs": [
    {
     "output_type": "error",
     "ename": "ValueError",
     "evalue": "invalid literal for int() with base 10: 'b'",
     "traceback": [
      "\u001b[0;31m---------------------------------------------------------------------------\u001b[0m",
      "\u001b[0;31mValueError\u001b[0m                                Traceback (most recent call last)",
      "\u001b[0;32m<ipython-input-7-a54eea4465f5>\u001b[0m in \u001b[0;36m<module>\u001b[0;34m\u001b[0m\n\u001b[0;32m----> 1\u001b[0;31m \u001b[0ma\u001b[0m \u001b[0;34m=\u001b[0m \u001b[0mint\u001b[0m\u001b[0;34m(\u001b[0m\u001b[0minput\u001b[0m\u001b[0;34m(\u001b[0m\u001b[0;34m\"Enter a number: \"\u001b[0m\u001b[0;34m)\u001b[0m\u001b[0;34m)\u001b[0m\u001b[0;34m\u001b[0m\u001b[0;34m\u001b[0m\u001b[0m\n\u001b[0m\u001b[1;32m      2\u001b[0m \u001b[0mprint\u001b[0m\u001b[0;34m(\u001b[0m\u001b[0ma\u001b[0m\u001b[0;34m)\u001b[0m\u001b[0;34m\u001b[0m\u001b[0;34m\u001b[0m\u001b[0m\n",
      "\u001b[0;31mValueError\u001b[0m: invalid literal for int() with base 10: 'b'"
     ]
    }
   ],
   "source": [
    "a = int(input(\"Enter a number: \"))\n",
    "print(a)"
   ]
  },
  {
   "source": [
    "- There exists lots of other runtime error as well."
   ],
   "cell_type": "markdown",
   "metadata": {}
  },
  {
   "source": [
    "__What is an Exception?__\n",
    "\n",
    "- It is an unwanted / unexpected event that is going to disturb the regular flow control of our program."
   ],
   "cell_type": "markdown",
   "metadata": {}
  },
  {
   "source": [
    "__ Why exception handling is required?__\n",
    "- To terminate the program gracefully not abruptly.\n",
    "\n",
    "__What is the meaning of Exception Handling?__\n",
    "- Defining alternative way to continue rest of the program normally is known as exception handling."
   ],
   "cell_type": "markdown",
   "metadata": {}
  },
  {
   "cell_type": "code",
   "execution_count": null,
   "metadata": {},
   "outputs": [],
   "source": [
    "try:\n",
    "    statement 1 # place the risky code which you think is going to produce runtime errors\n",
    "except:\n",
    "    statement 2 # what you want tp do if the errors occur"
   ]
  },
  {
   "source": [
    "- If excption handling is not there python terminate the program abnormaly and print error exception message."
   ],
   "cell_type": "markdown",
   "metadata": {}
  },
  {
   "cell_type": "code",
   "execution_count": 1,
   "metadata": {},
   "outputs": [
    {
     "output_type": "stream",
     "name": "stdout",
     "text": [
      "Hello\n"
     ]
    },
    {
     "output_type": "error",
     "ename": "ZeroDivisionError",
     "evalue": "division by zero",
     "traceback": [
      "\u001b[0;31m---------------------------------------------------------------------------\u001b[0m",
      "\u001b[0;31mZeroDivisionError\u001b[0m                         Traceback (most recent call last)",
      "\u001b[0;32m<ipython-input-1-b9e11467e678>\u001b[0m in \u001b[0;36m<module>\u001b[0;34m\u001b[0m\n\u001b[1;32m      1\u001b[0m \u001b[0mprint\u001b[0m\u001b[0;34m(\u001b[0m\u001b[0;34m\"Hello\"\u001b[0m\u001b[0;34m)\u001b[0m\u001b[0;34m\u001b[0m\u001b[0;34m\u001b[0m\u001b[0m\n\u001b[0;32m----> 2\u001b[0;31m \u001b[0mprint\u001b[0m\u001b[0;34m(\u001b[0m\u001b[0;36m20\u001b[0m \u001b[0;34m/\u001b[0m \u001b[0;36m0\u001b[0m\u001b[0;34m)\u001b[0m\u001b[0;34m\u001b[0m\u001b[0;34m\u001b[0m\u001b[0m\n\u001b[0m\u001b[1;32m      3\u001b[0m \u001b[0mprint\u001b[0m\u001b[0;34m(\u001b[0m\u001b[0;34m\"Hi\"\u001b[0m\u001b[0;34m)\u001b[0m\u001b[0;34m\u001b[0m\u001b[0;34m\u001b[0m\u001b[0m\n",
      "\u001b[0;31mZeroDivisionError\u001b[0m: division by zero"
     ]
    }
   ],
   "source": [
    "print(\"Hello\")\n",
    "print(20 / 0)\n",
    "print(\"Hi\")"
   ]
  },
  {
   "cell_type": "code",
   "execution_count": 2,
   "metadata": {},
   "outputs": [
    {
     "output_type": "stream",
     "name": "stdout",
     "text": [
      "Hello\nThere was a divide by zero error\nHi\n"
     ]
    }
   ],
   "source": [
    "print(\"Hello\")\n",
    "try: \n",
    "    print(20 / 0)\n",
    "except:\n",
    "    print(\"There was a divide by zero error\")\n",
    "print(\"Hi\")"
   ]
  },
  {
   "source": [
    "### Python Exception Hierarchy"
   ],
   "cell_type": "markdown",
   "metadata": {}
  },
  {
   "source": [
    "![title](https://imgur.com/AOy3stq.png)"
   ],
   "cell_type": "markdown",
   "metadata": {}
  },
  {
   "cell_type": "code",
   "execution_count": null,
   "metadata": {},
   "outputs": [],
   "source": [
    "try:\n",
    "    statement 1\n",
    "    statement 2\n",
    "    statement 3\n",
    "except:\n",
    "    statement 4\n",
    "statement 5"
   ]
  },
  {
   "cell_type": "code",
   "execution_count": null,
   "metadata": {},
   "outputs": [],
   "source": [
    "# Case 1\n",
    "# statement 1, 2, 3, 5\n",
    "\n",
    "# Case 2\n",
    "# statement 1, 4, 5  When error in statement 2\n",
    "# \n",
    "# Case 3\n",
    "# statement 1, 2, 4 (Error in statement 4 as well) This leads to an abnormal termination\n",
    "# "
   ]
  },
  {
   "source": [
    "### Multiple try except blocks"
   ],
   "cell_type": "markdown",
   "metadata": {}
  },
  {
   "cell_type": "code",
   "execution_count": null,
   "metadata": {},
   "outputs": [],
   "source": [
    "try:\n",
    "    statement 1\n",
    "    statement 2\n",
    "    statement 3\n",
    "    statement 4\n",
    "except:\n",
    "    statement 5\n",
    "    statement 6"
   ]
  },
  {
   "source": [
    "- Suppose if error occurs in statement 2 then statement 5 and 6 will execute.\n",
    "- What if execution of statement 3 and 4 is essential even if error occurs in statement 2\n",
    "- We will use multiple try except blocks in such case"
   ],
   "cell_type": "markdown",
   "metadata": {}
  },
  {
   "cell_type": "code",
   "execution_count": null,
   "metadata": {},
   "outputs": [],
   "source": [
    "try:\n",
    "    statement 1\n",
    "    try :\n",
    "        statement 2\n",
    "    except:\n",
    "        statement 2.1\n",
    "    statement 3\n",
    "    statement 4\n",
    "except:\n",
    "    statement 5\n",
    "    statement 6"
   ]
  },
  {
   "source": [
    "-Example"
   ],
   "cell_type": "markdown",
   "metadata": {}
  },
  {
   "cell_type": "code",
   "execution_count": 13,
   "metadata": {},
   "outputs": [
    {
     "output_type": "stream",
     "name": "stdout",
     "text": [
      "Outer try block\nInner try block\nError Occured\nInner except block\nStatement 2\nStatement 3\n"
     ]
    }
   ],
   "source": [
    "try:\n",
    "    print('Outer try block')\n",
    "    try:\n",
    "        print('Inner try block')\n",
    "        print(20 / 0)\n",
    "    except:\n",
    "        print('Error Occured')\n",
    "        print('Inner except block')\n",
    "    print('Statement 2')\n",
    "except:\n",
    "    print('Outer Except Block')\n",
    "print('Statement 3')\n"
   ]
  },
  {
   "source": [
    "### finally\n",
    "- finally block will always execute irrespective of error occurance or non occurance in the code."
   ],
   "cell_type": "markdown",
   "metadata": {}
  },
  {
   "cell_type": "code",
   "execution_count": 14,
   "metadata": {},
   "outputs": [
    {
     "output_type": "stream",
     "name": "stdout",
     "text": [
      "Statement 1\nstatement 2\nstatement 3\n"
     ]
    }
   ],
   "source": [
    "try:\n",
    "    print('Statement 1')\n",
    "    print(10 / 0)\n",
    "except:\n",
    "    print('statement 2')\n",
    "finally:\n",
    "    print('statement 3')"
   ]
  },
  {
   "source": [
    "- Example"
   ],
   "cell_type": "markdown",
   "metadata": {}
  },
  {
   "cell_type": "code",
   "execution_count": null,
   "metadata": {},
   "outputs": [],
   "source": [
    "try:\n",
    "    statement1\n",
    "    statement2\n",
    "    statement3\n",
    "    try:\n",
    "        statement4\n",
    "        statement5\n",
    "        statement6\n",
    "    except:\n",
    "        statement7\n",
    "    finally:\n",
    "        statement8\n",
    "    statement9\n",
    "except:\n",
    "    statement10\n",
    "finally:\n",
    "    statement11\n",
    "statement12    "
   ]
  },
  {
   "source": [
    "Case 1: When there is going to be no exception.\n",
    "- 1, 2, 3, 4, 5, 6, 8, 9, 11, 12  Normal Termination\n",
    "\n",
    "Case 2: Exception raised at statement 2 and corresponding except block matched.\n",
    "- 1, 10, 11, 12 Normal Termination\n",
    "\n",
    "Case 3: Exception raised at statement 2 and corresponding except block not matched.\n",
    "- 1, 11, Abnormal Termination\n",
    "\n",
    "Case 4: Exception raised at statement 5 and corresponding except block matched.\n",
    "- 1, 2, 3, 4, 7, 8, 9, 11, 12 Normal Termination\n",
    " \n",
    "Case 5: Exception raised at statement 5 and corresponding except block not matched but outer except block matched.\n",
    "- 1, 2, 3, 4, 7, 8, 10, 11, 12 Normal Termination\n",
    "\n",
    "Case 6: Exception raised at statement 5 and corresponding in ner and outer except bock not matched.\n",
    "- 1, 2, 3, 4, 8, 11 Abnormal Termination\n",
    "\n",
    "Case 7: Exception raised at statement 7 and corresponding except block matched.\n",
    "- Suppose error at statement 4\n",
    "- 1, 2, 3, 8, 10, 11, 12 Normal Termination\n",
    "\n",
    "Case 8: Exception raised at statement 7 and corresponding except not block matched.\n",
    "- Suppose error at statement 4\n",
    "- 1, 2, 3, 8, 11 Abnormal Termination\n",
    "\n",
    "Case 9 Exception raised at statement 8 and corresponding except block matched.\n",
    "- Suppose nmo error at 4, 5, 6\n",
    "- 1, 2, 3, 4, 5, 6, 8, 10, 11, 12\n",
    "\n",
    "Case 10: Exception raised at statement 8 and corresponding except block not matched.\n",
    "- Suppose nmo error at 4, 5, 6\n",
    "- 1, 2, 3, 4, 5, 6, 8, 11 Abnormal Termination\n",
    "\n",
    "Case 11: Exception at statement 9 and  corresponding except block matched.\n",
    "- Suppose nmo error at 4, 5, 6\n",
    "- 1, 2, 3, 4, 5, 6, 8, 10, 11, 12\n",
    "\n",
    "Case 12: Exception at statement 9 and  corresponding except block matched.\n",
    "- Suppose nmo error at 4, 5, 6\n",
    "- 1, 2, 3, 4, 5, 6, 8, 11 Abnormal Termination\n",
    "\n",
    "Case 13: Exception raised at statement 10 and corresponding\n",
    "- \\* , 11 Abnormal Termination \n",
    "\n",
    "Case 14: Exception raised in statement 11 or 12\n",
    "-  \\*, Abnormal Termination\n",
    "\n"
   ],
   "cell_type": "markdown",
   "metadata": {}
  },
  {
   "cell_type": "code",
   "execution_count": null,
   "metadata": {},
   "outputs": [],
   "source": []
  }
 ]
}